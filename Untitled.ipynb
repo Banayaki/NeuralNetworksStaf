{
 "cells": [
  {
   "cell_type": "code",
   "execution_count": null,
   "metadata": {},
   "outputs": [],
   "source": [
    "import numpy as np\n",
    "import pandas as pd"
   ]
  },
  {
   "cell_type": "markdown",
   "metadata": {},
   "source": [
    "### Функции активации"
   ]
  },
  {
   "cell_type": "code",
   "execution_count": null,
   "metadata": {},
   "outputs": [],
   "source": [
    "def sigmoid(x, a=1., b=1.):\n",
    "    return a / (1. + np.exp(-x)) + b\n",
    "\n",
    "def sigmoid_prime(x, a=1., b=1.):\n",
    "    return a * sigmoid(x) * (1. - sigmoid(x))\n",
    "\n",
    "def tanh(x):\n",
    "    return np.tanh(x)\n",
    "\n",
    "def tanh_prine(x):\n",
    "    return 1. - tanh(x) ** 2\n",
    "\n",
    "def softsign(x):\n",
    "    return x / (1. + abs(x))\n",
    "\n",
    "def softsign_prime(x):\n",
    "    return 1. / ((1. + abs(x)) ** 2)\n",
    "\n",
    "def step_function(x):\n",
    "    return 0 if x < 0 else 1.\n",
    "\n",
    "def step_function_prime(x):\n",
    "    return 0\n",
    "\n",
    "def softplus(x):\n",
    "    return np.log(1. + np.exp(x))\n",
    "\n",
    "def softplus_prime(x):\n",
    "    return sigmoid(x)\n",
    "\n",
    "def relu(x):\n",
    "    return 0 if x < 0 else x\n",
    "\n",
    "def relu_prime(x):\n",
    "    return 0 if x < 0 else 1.\n",
    "\n",
    "def pRelu(param, x):\n",
    "    return param * x if x < 0 else x\n",
    "\n",
    "def pRelu_prime(param, x):\n",
    "    return param if x < 0 else 1\n",
    "\n",
    "def elu(param, x):\n",
    "    return param * (np.eps(x) - 1.) if x < 0 else x\n",
    "\n",
    "def elu_prime(param, x):\n",
    "    return elu(param, x) + param if x < 0 else 1.\n"
   ]
  },
  {
   "cell_type": "markdown",
   "metadata": {},
   "source": [
    "### Целевые функции"
   ]
  },
  {
   "cell_type": "code",
   "execution_count": null,
   "metadata": {},
   "outputs": [],
   "source": [
    "def mse(y, y_pred):\n",
    "    return 0.5 * (np.sum(y_pred - y) ** 2)\n",
    "\n",
    "def cross_entropy(y, y_pred):\n",
    "    return -1./y.size() * np.sum(y * np.log(y_pred) + (1 - y) * np.log(1 - y_pred))"
   ]
  },
  {
   "cell_type": "code",
   "execution_count": null,
   "metadata": {},
   "outputs": [],
   "source": [
    "class neural_network:\n",
    "    layouts = Null\n",
    "    activation_func\n",
    "    target_function\n",
    "    learning_rate\n",
    "    def __init__(layouts, activation_func, target_function, learning_rate):\n",
    "        self.layouts = layouts\n",
    "        self.activation_func = activation_func\n",
    "        self.target_function = target_function\n",
    "        self.learning_rate = learning_rate\n",
    "        self.w = np.array()\n",
    "        self.b = np.array()\n",
    "        pass\n",
    "    \n",
    "    def recreate_model(layouts=self.layouts, activation_func=self.activation_func, target_function=self.target_function,\n",
    "                    learning_rate=0.01):\n",
    "        self.layouts = layouts\n",
    "        self.activation_func = activation_func\n",
    "        self.target_function = target_function\n",
    "        self.learning_rate = learning_rate\n",
    "        pass\n",
    "        \n",
    "    def bias_init(normal=False, variance=0.1):\n",
    "        self.b = np.zeros(len(layouts)) if normal == False else \n",
    "        self.b = np.random.normal(1, len(layouts), (0, variance))\n",
    "        pass\n",
    "    \n",
    "    def weight_init(uniform=True, normal=False, glorot=False, he=False)\n",
    "                         \n",
    "    "
   ]
  }
 ],
 "metadata": {
  "kernelspec": {
   "display_name": "Python 3",
   "language": "python",
   "name": "python3"
  },
  "language_info": {
   "codemirror_mode": {
    "name": "ipython",
    "version": 3
   },
   "file_extension": ".py",
   "mimetype": "text/x-python",
   "name": "python",
   "nbconvert_exporter": "python",
   "pygments_lexer": "ipython3",
   "version": "3.6.6"
  }
 },
 "nbformat": 4,
 "nbformat_minor": 2
}
