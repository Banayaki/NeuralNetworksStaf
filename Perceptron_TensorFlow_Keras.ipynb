{
 "cells": [
  {
   "cell_type": "markdown",
   "metadata": {},
   "source": [
    "Пример кода взят из книги: \"Глубокое обучение\" под авторством Николенко С., Кадурин А., Архангельская Е. с 87"
   ]
  },
  {
   "cell_type": "code",
   "execution_count": null,
   "metadata": {},
   "outputs": [],
   "source": [
    "import numpy as np\n",
    "import tensorflow as tf\n",
    "import matplotlib.pyplot as plt"
   ]
  },
  {
   "cell_type": "code",
   "execution_count": null,
   "metadata": {},
   "outputs": [],
   "source": [
    "n_samples = 1000\n",
    "batch_size = 100\n",
    "num_steps = 20000\n",
    "# Создаем входные данные, 1000 случайных точек для предиктора [0;1]\n",
    "# И для каждого значения предиктора расчитываем \"почти\" правильный ответ\n",
    "# y = 2x + 1 + eps \n",
    "x_data = np.random.uniform(1, 10, (n_samples, 1))\n",
    "y_data = 2 * x_data + 1 + np.random.normal(0, 2, (n_samples, 1))"
   ]
  },
  {
   "cell_type": "code",
   "execution_count": null,
   "metadata": {},
   "outputs": [],
   "source": [
    "# Так называемая заглушка, используемая для передачи новых данных на видеокарту\n",
    "# Хочет знать тип данных и размер тензора\n",
    "x = tf.placeholder(tf.float32, shape=(batch_size, 1))\n",
    "y = tf.placeholder(tf.float32, shape=(batch_size, 1))"
   ]
  },
  {
   "cell_type": "code",
   "execution_count": null,
   "metadata": {},
   "outputs": [],
   "source": [
    "# Инициализация переменных (на данный момент значений не имеют)\n",
    "with tf.variable_scope('linear-regression'):\n",
    "    k = tf.Variable(tf.random_normal((1, 1)), name='slope')\n",
    "    b = tf.Variable(tf.zeros((1,)), name='bias')"
   ]
  },
  {
   "cell_type": "code",
   "execution_count": null,
   "metadata": {},
   "outputs": [],
   "source": [
    "# Тут мы задаем нашу модель, выбираем целевую функцию\n",
    "y_pred = tf.matmul(x, k) + b\n",
    "loss = tf.reduce_sum((y - y_pred) ** 2)\n",
    "# Собственно выбор алгоритма, который будет подсчитывать градиенты\n",
    "# И обновлять веса\n",
    "optimizer = tf.train.GradientDescentOptimizer(learning_rate=0.000002).minimize(loss)"
   ]
  },
  {
   "cell_type": "code",
   "execution_count": null,
   "metadata": {},
   "outputs": [],
   "source": [
    "\"\"\"\n",
    "Цикл в котром происходит вся магия.\n",
    "На каждой итерации цикла берем случайное подмножество размера batch_size\n",
    "И соственно обучем на этих примерах\n",
    "\"\"\"\n",
    "display_step = 100\n",
    "sess = tf.InteractiveSession()\n",
    "sess.run(tf.global_variables_initializer())\n",
    "for i in range(num_steps):\n",
    "    indices = np.random.choice(n_samples, batch_size)\n",
    "    x_batch = x_data[indices]\n",
    "    y_batch = y_data[indices]\n",
    "    _, loss_val, k_val, b_val = sess.run([optimizer, loss, k, b], feed_dict = {x : x_batch, y : y_batch})   \n",
    "    if (i+1) % display_step == 0:\n",
    "        print('Эпоха %d: %.8f, k=%.4f, b=%.4f' % (i + 1, loss_val, k_val, b_val))"
   ]
  },
  {
   "cell_type": "markdown",
   "metadata": {},
   "source": [
    "# Keras"
   ]
  },
  {
   "cell_type": "code",
   "execution_count": 3,
   "metadata": {},
   "outputs": [],
   "source": [
    "import numpy as np\n",
    "from keras.models import Sequential\n",
    "from keras.layers import Input, Dense, Activation"
   ]
  },
  {
   "cell_type": "code",
   "execution_count": 4,
   "metadata": {},
   "outputs": [],
   "source": [
    "# Создаем модель в виде sequential т.е. модель будеть создаваться слой за слоем\n",
    "logr = Sequential()\n",
    "# Добавляем один слой, входы которого будут размерности два, а активация - сигмоида\n",
    "logr.add(Dense(1, input_dim=2, activation='sigmoid'))\n",
    "# Компилируем модели с такими вот параметрами, все очевидно\n",
    "logr.compile(loss='binary_crossentropy', optimizer='sgd', metrics=['accuracy'])"
   ]
  },
  {
   "cell_type": "code",
   "execution_count": null,
   "metadata": {},
   "outputs": [],
   "source": [
    "# Для примера гегерируем два двумерных нормальных распределения.\n",
    "def sampler(n, x, y):\n",
    "    return np.random.normal(size=[n, 2]) + [x, y]\n",
    "# С центром в (-1, -1) и (1, 1) и дичперсией 1 по обоим компонентам\n",
    "def sample_data(n=1000, p0=(-1., -1.), p1=(1., 1.)):\n",
    "    zeros, ones = np.zeros((n, 1)), np.ones((n, 1))\n",
    "    labels = np.vstack([zeros, ones])\n",
    "    z_sample = sampler(n, x=p0[0], y=p0[1])\n",
    "    o_sample = sampler(n, x=p1[0], y=p1[1])\n",
    "    return np.vstack([z_sample, o_sample]), labels\n",
    "\n",
    "x_train, y_train = sample_data()\n",
    "x_test, y_test = sample_data(100)\n",
    "\n",
    "logr.fit(x_train, y_train, batch_size=16, epoch=100, verbose=1, validation_data=(x_test, y_test))"
   ]
  },
  {
   "cell_type": "code",
   "execution_count": null,
   "metadata": {},
   "outputs": [],
   "source": []
  }
 ],
 "metadata": {
  "kernelspec": {
   "display_name": "Python 3",
   "language": "python",
   "name": "python3"
  },
  "language_info": {
   "codemirror_mode": {
    "name": "ipython",
    "version": 3
   },
   "file_extension": ".py",
   "mimetype": "text/x-python",
   "name": "python",
   "nbconvert_exporter": "python",
   "pygments_lexer": "ipython3",
   "version": "3.6.6"
  }
 },
 "nbformat": 4,
 "nbformat_minor": 2
}
