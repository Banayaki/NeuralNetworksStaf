{
 "cells": [
  {
   "cell_type": "code",
   "execution_count": 2,
   "metadata": {},
   "outputs": [],
   "source": [
    "import tensorflow as tf\n",
    "import numpy as np"
   ]
  },
  {
   "cell_type": "markdown",
   "metadata": {},
   "source": [
    "Т.к. мы не планируем обучать какую-либо модель, определим заглушки заданного размера"
   ]
  },
  {
   "cell_type": "code",
   "execution_count": 3,
   "metadata": {},
   "outputs": [],
   "source": [
    "x_inp = tf.placeholder(tf.float32, [5, 5])\n",
    "w_inp = tf.placeholder(tf.float32, [3, 3])"
   ]
  },
  {
   "cell_type": "markdown",
   "metadata": {},
   "source": [
    "В tensorflow двумерные свертки реализуются  с помощью функции conv2d, которая принимает на вход тензор сверточных весов и тензор карт признаков набора изображений\n",
    "[размер_батча, высота, ширины, каналы]. \n",
    "<br>\n",
    "Например, если мы используем мини-батчи размером 32 изображения в каждом и обучаем RGB-изображения лиц размером 28х28, то итоговая размерность тензора будет: [32, 28, 28, 3], значит каждый минибатч подающийся на вход сети будет содержать около 75 тысяч чисел\n",
    "<br>\n",
    "Размерность тензора сверточных весов определяется размерами ядра свертки и числом каналов как на входе так и на выходе: [высота, ширина, входные каналы, выходные каналы]. Так для фильтра 3х3 применяемый к rgb изображению и дающему на выходе 32 карты признаков мы получим размерности: [3, 3, 3, 32] и всего в нем будет 288 весов и на выходе они превратят исходную картинку в картинку 26х26х32 = 21632 числа, что в 50 тысяч раз меньше аналогичной полносвязной сети (17 миллионов чисел)"
   ]
  },
  {
   "cell_type": "code",
   "execution_count": 4,
   "metadata": {},
   "outputs": [],
   "source": [
    "x = tf.reshape(x_inp, [1, 5, 5, 1])\n",
    "w = tf.reshape(w_inp, [3, 3, 1, 1])"
   ]
  },
  {
   "cell_type": "code",
   "execution_count": 5,
   "metadata": {},
   "outputs": [],
   "source": [
    "x_valid = tf.nn.conv2d(x, w, strides=[1, 1, 1, 1], padding='VALID')\n",
    "x_same = tf.nn.conv2d(x, w, strides=[1, 1, 1, 1], padding='SAME')\n",
    "x_valid_half = tf.nn.conv2d(x, w, strides=[1, 2, 2, 1], padding='VALID')\n",
    "x_same_half = tf.nn.conv2d(x, w, strides=[1, 2, 2, 1], padding='SAME')"
   ]
  },
  {
   "cell_type": "code",
   "execution_count": 6,
   "metadata": {},
   "outputs": [],
   "source": [
    "x = ([[0, 1, 2, 1 ,0],\n",
    "         [4, 1, 0, 1, 0],\n",
    "         [2, 0, 1, 1, 1],\n",
    "         [1, 2, 3, 1, 0],\n",
    "         [0, 4, 3, 2, 0]])\n",
    "\n",
    "w = ([[0, 1, 0],\n",
    "         [1, 0, 1],\n",
    "         [2, 1, 0]])"
   ]
  },
  {
   "cell_type": "code",
   "execution_count": 7,
   "metadata": {},
   "outputs": [],
   "source": [
    "sess = tf.Session()\n",
    "y_valid, y_same, y_valid_half, y_same_half = sess.run([x_valid, x_same, x_valid_half, x_same_half], feed_dict={x_inp: x, w_inp: w})"
   ]
  },
  {
   "cell_type": "code",
   "execution_count": 10,
   "metadata": {},
   "outputs": [
    {
     "name": "stdout",
     "output_type": "stream",
     "text": [
      "padding=VALID:\n",
      " [[ 9.  5.  4.]\n",
      " [ 8.  8. 10.]\n",
      " [ 8. 15. 12.]]\n",
      "padding=SAME:\n",
      " [[ 5. 11.  4.  3.  3.]\n",
      " [ 3.  9.  5.  4.  4.]\n",
      " [ 5.  8.  8. 10.  3.]\n",
      " [ 4.  8. 15. 12.  6.]\n",
      " [ 5.  5.  9.  4.  2.]]\n",
      "padding=VALID, stride 2:\n",
      " [[ 9.  4.]\n",
      " [ 8. 12.]]\n",
      "padding=SAME, stride 2:\n",
      " [[5. 4. 3.]\n",
      " [5. 8. 3.]\n",
      " [5. 9. 2.]]\n"
     ]
    }
   ],
   "source": [
    "print(\"padding=VALID:\\n\", y_valid[0, :, :, 0])\n",
    "print(\"padding=SAME:\\n\", y_same[0, :, :, 0])\n",
    "print(\"padding=VALID, stride 2:\\n\", y_valid_half[0, :, :, 0])\n",
    "print(\"padding=SAME, stride 2:\\n\", y_same_half[0, :, :, 0])\n"
   ]
  },
  {
   "cell_type": "markdown",
   "metadata": {},
   "source": [
    "Субдескритизация в tensorflow.\n",
    "Создадим заглушку и приведем её к нужной размерности"
   ]
  },
  {
   "cell_type": "code",
   "execution_count": 11,
   "metadata": {},
   "outputs": [],
   "source": [
    "x_inp = tf.placeholder(tf.float32, [4, 4])\n",
    "x = tf.reshape(x_inp, [1, 4, 4, 1])"
   ]
  },
  {
   "cell_type": "markdown",
   "metadata": {},
   "source": [
    "Теперь можем определять операции субдискретизации с помощью специальной функции (попробуем шаг 1 и 2)"
   ]
  },
  {
   "cell_type": "code",
   "execution_count": 12,
   "metadata": {},
   "outputs": [],
   "source": [
    "x_valid = tf.nn.max_pool(x, ksize=[1, 2, 2, 1], strides=[1, 1, 1, 1], padding='VALID')\n",
    "x_valid_half = tf.nn.max_pool(x, ksize=[1, 2, 2, 1], strides=[1, 2, 2, 1], padding='VALID')"
   ]
  },
  {
   "cell_type": "code",
   "execution_count": 13,
   "metadata": {},
   "outputs": [],
   "source": [
    "x = np.array([[0, 1, 2, 1],\n",
    "                        [4, 1, 0, 1],\n",
    "                        [2, 0, 1, 1],\n",
    "                        [1, 2, 3, 1]])\n",
    "y_valid, y_valid_half = sess.run([x_valid, x_valid_half], feed_dict={x_inp: x})"
   ]
  },
  {
   "cell_type": "code",
   "execution_count": 14,
   "metadata": {},
   "outputs": [
    {
     "name": "stdout",
     "output_type": "stream",
     "text": [
      "padding=VALID:\n",
      " [[4. 2. 2.]\n",
      " [4. 1. 1.]\n",
      " [2. 3. 3.]]\n",
      "padding=VALID, stride 2:\n",
      " [[4. 2.]\n",
      " [2. 3.]]\n"
     ]
    }
   ],
   "source": [
    "print( \"padding=VALID:\\n\", y_valid[0, :, :, 0])\n",
    "print( \"padding=VALID, stride 2:\\n\", y_valid_half[0, :, :, 0])"
   ]
  },
  {
   "cell_type": "code",
   "execution_count": null,
   "metadata": {},
   "outputs": [],
   "source": []
  }
 ],
 "metadata": {
  "kernelspec": {
   "display_name": "Python 3",
   "language": "python",
   "name": "python3"
  },
  "language_info": {
   "codemirror_mode": {
    "name": "ipython",
    "version": 3
   },
   "file_extension": ".py",
   "mimetype": "text/x-python",
   "name": "python",
   "nbconvert_exporter": "python",
   "pygments_lexer": "ipython3",
   "version": "3.6.6"
  }
 },
 "nbformat": 4,
 "nbformat_minor": 2
}
